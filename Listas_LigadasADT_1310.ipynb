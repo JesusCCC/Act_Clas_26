{
  "nbformat": 4,
  "nbformat_minor": 0,
  "metadata": {
    "colab": {
      "name": "Listas_LigadasADT_1310.ipynb",
      "provenance": []
    },
    "kernelspec": {
      "name": "python3",
      "display_name": "Python 3"
    },
    "language_info": {
      "name": "python"
    }
  },
  "cells": [
    {
      "cell_type": "markdown",
      "metadata": {
        "id": "_Aqz7wx_0ie5"
      },
      "source": [
        "#Ejercicios con la clase Nodo\n",
        "\n",
        "- Crear un nodo \n",
        "   - Imprimir el valor del nodo\n",
        "- Crear dos nodos\n",
        "   - Imprimir el valor del primero\n",
        "   - Imprimir el valor del segundo\n",
        "   - Transversal \n",
        "-Lo mismo con cuatro nodos 10, 20, 30, 40\n",
        "   - Imprimir el valor del primero\n",
        "   - Imprimir el valor del ultimo\n",
        "   - Transversal\n",
        "   - Insertar el nodo 25 despues del nodo 20 y antes del nodo 30\n",
        "\n",
        "###Todo esto antes de ir a la escritura formal del ADT Lista Ligada"
      ]
    },
    {
      "cell_type": "code",
      "metadata": {
        "id": "Zmh2cuRLr7Sm"
      },
      "source": [
        "class Nodo:\n",
        "    def __init__( self, value, siguiente = None ):\n",
        "        self.data = value \n",
        "        self.next = siguiente"
      ],
      "execution_count": 2,
      "outputs": []
    },
    {
      "cell_type": "code",
      "metadata": {
        "id": "gDHGSH3Z18Rg"
      },
      "source": [
        "head = Nodo(10)\n",
        "print( head.data )"
      ],
      "execution_count": null,
      "outputs": []
    },
    {
      "cell_type": "code",
      "metadata": {
        "id": "W0qqRajk2eJi"
      },
      "source": [
        "head = Nodo(10)\n",
        "head.next = Nodo(20)\n",
        "print(f\"Primero es =  {head.data} \" )\n",
        "print(f\"Primero es =  {head.next.data} \" )\n",
        "\n",
        "#Lo mismo pero ahorrando codigo\n",
        "head = Nodo( 10, Nodo(20) )\n",
        "print(f\"Primero es =  {head.data} \" )\n",
        "print(f\"Primero es =  {head.next.data} \" )\n",
        "\n",
        "#Transversal\n",
        "curr_node = head\n",
        "while curr_node != None:\n",
        "    print(f\"| {curr_node.data} | ---> \", end = \"\")\n",
        "    curr_node = curr_node.next\n",
        "\n",
        "print(\"\")"
      ],
      "execution_count": null,
      "outputs": []
    },
    {
      "cell_type": "code",
      "metadata": {
        "id": "kKrSNxKI66SU"
      },
      "source": [
        "head = Nodo( 10, Nodo(20, Nodo(30,  Nodo(40 ))))\n",
        "#Nodo(valor, siguiente)\n",
        "  #Transversal\n",
        "curr_node = head\n",
        "while curr_node != None:\n",
        "    print(f\"| {curr_node.data} | ---> \", end = \"\")\n",
        "    curr_node = curr_node.next\n",
        "\n",
        "print(\"\")\n",
        "\n",
        "\n",
        "\n",
        "#imprimir el primero\n",
        "print(head.data)\n",
        "#imprimir el ultimo\n",
        "curr_node = head\n",
        "while curr_node.next != None: #Este se encarga de direccionar a los nodos hasta llegar al ultimo, siendo este al que imprime pues seguido no hay nada\n",
        "    curr_node = curr_node.next\n",
        "print(curr_node.data)\n",
        "\n",
        "print(\"\")\n",
        "\n",
        "#Insertar el nodo 25 despues del nodo 20 y antes del nodo 30\n",
        "curr_node = head\n",
        "while curr_node.data != 20:\n",
        "    curr_node = curr_node.next\n",
        "print(curr_node.data)\n",
        "\n",
        "#      Crear Nodo 25\n",
        "curr_node.next = Nodo(25, curr_node.next )\n",
        "print(\"Después de insertar a 25 \")\n",
        "#   Trasnversal\n",
        "curr_node = head\n",
        "while curr_node !=  None:\n",
        "    print(f\"| {curr_node.data } | ---> \" , end=\"\")\n",
        "    curr_node = curr_node.next\n",
        "print(\"\")\n",
        "\n",
        "#   Insertar el 25 entre 20 y 30\n",
        "curr_node = head\n",
        "while curr_node.data != 20:\n",
        "    curr_node = curr_node.next\n",
        "print(curr_node.data)\n"
      ],
      "execution_count": null,
      "outputs": []
    },
    {
      "cell_type": "code",
      "metadata": {
        "id": "jR8SEXuIc119"
      },
      "source": [
        "class LinkedList:\n",
        "    def __init__( self ):\n",
        "        self.head = None\n",
        "\n",
        "    def is_empty( self ): #true o false \n",
        "        return self.head == None \n",
        "\n",
        "    def get_tail( self ):\n",
        "        if self.is_empty():\n",
        "            return None\n",
        "        else:\n",
        "             curr_node = self.head\n",
        "             while curr_node.next != None:\n",
        "                 curr_node = curr_node.next\n",
        "             return curr_node \n",
        "\n",
        "    def append( self, value ):\n",
        "        if self.head == None:\n",
        "            self.head = Nodo( value )\n",
        "        else: \n",
        "            curr_node = self.head\n",
        "            while curr_node.next != None:\n",
        "                curr_node = curr_node.next\n",
        "            curr_node.next = Nodo(value)\n",
        "        \n",
        "    def transversal( self ):\n",
        "        curr_node = self.head\n",
        "        while curr_node != None:\n",
        "            print(f\"| {curr_node.data} | -->\" , end= \"\" )\n",
        "            curr_node = curr_node.next\n",
        "        print(\" \") \n",
        "\n",
        "    def remove( self, value ):\n",
        "        if self.head == None:\n",
        "            print(\"Lista vacia, no se puede remover nada \")\n",
        "        else:\n",
        "            curr_node =self.head\n",
        "            aux = None \n",
        "            while curr_node.data  != value: #Revisar cuando el valor no exista \n",
        "                aux = curr_node\n",
        "                curr_node = curr_node.next\n",
        "            \n",
        "            if curr_node != None:\n",
        "                aux.next = curr_node.next\n",
        "                curr_node = None\n",
        "    def preppend( self,  value ):\n",
        "        if self.head == None:\n",
        "            print(\"Está vacio, no se puede hacer preppend\")\n",
        "        else:\n",
        "            aux = self.head\n",
        "            self.head = Nodo( value, aux )\n",
        "\n",
        "\n",
        "\n"
      ],
      "execution_count": 17,
      "outputs": []
    },
    {
      "cell_type": "code",
      "metadata": {
        "id": "UiHXQi7OgxtI"
      },
      "source": [
        "lista = LinkedList()\n",
        "if lista.is_empty():\n",
        "    print(\"La lista está vacia \")\n",
        "else:\n",
        "    print(\"La lista no está vacia\")\n",
        "\n",
        "lista.append(10)\n",
        "lista.append(20)\n",
        "lista.append(30)\n",
        "lista.append(40)\n",
        "lista.append(50)\n",
        "\n",
        "nodo = lista.get_tail()\n",
        "if nodo != None:\n",
        "    print( nodo.data )\n",
        "else: \n",
        "    print(\"La lista está vacia\")\n",
        "\n",
        "lista.transversal()\n",
        "lista.remove(30)\n",
        "lista.transversal()\n",
        "lista.preppend(5)\n",
        "lista.transversal()\n",
        "\n"
      ],
      "execution_count": null,
      "outputs": []
    }
  ]
}